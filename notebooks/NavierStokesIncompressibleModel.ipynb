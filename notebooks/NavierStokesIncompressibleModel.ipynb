{
  "nbformat": 4,
  "nbformat_minor": 0,
  "metadata": {
    "colab": {
      "provenance": []
    },
    "kernelspec": {
      "name": "python3",
      "display_name": "Python 3"
    },
    "language_info": {
      "name": "python"
    }
  },
  "cells": [
    {
      "cell_type": "markdown",
      "source": [
        "we're using the navier stokes equation here however without explicitly simulating pressure. turns out simulating pressure is especially difficult due to... reasons? i think we dont have an easy equation to calculate pressure like we do for other things and it's easier to calculate what pressure should be rather than what it is which is interesting.\n",
        "\n",
        "so the general idea is using the navier stokes equation but instead of calculating pressure, solve the navier stokes equation ignoring pressure. the result of that equation tells us what our wind movement in x,y looks like. we can then use that info to solve the poisson equation. from my understanding the poisson equations finds us pressure values that would make sense in the context of weather. so for example if theres a lot of wind moving to the right it will assign the right a high pressure value and the surrounding areas lower pressure.\n",
        "\n",
        "with these \"solved for\" pressure values, we actually update the x,y wind movement with the pressure values to get a realistic? simulation of wind"
      ],
      "metadata": {
        "id": "GwJgfwbNQPDw"
      }
    },
    {
      "cell_type": "code",
      "execution_count": 1,
      "metadata": {
        "id": "ciNUZ63NvbS1"
      },
      "outputs": [],
      "source": [
        "import numpy as np"
      ]
    },
    {
      "cell_type": "code",
      "source": [
        "timestep = 1\n",
        "cellSize = 1\n",
        "\n",
        "viscosity = 10**-5\n",
        "density = 1.2"
      ],
      "metadata": {
        "id": "aWRioiwmIlS9"
      },
      "execution_count": 105,
      "outputs": []
    },
    {
      "cell_type": "code",
      "source": [
        "xWindMovement = np.arange(1, 26).reshape(5, 5)\n",
        "yWindMovement = np.arange(1, 26).reshape(5, 5)"
      ],
      "metadata": {
        "id": "7P7843ZgvmPh"
      },
      "execution_count": 8,
      "outputs": []
    },
    {
      "cell_type": "code",
      "source": [
        "def calculateNeighbors(data):\n",
        "    easternNeighbor = np.hstack((data[:, 1:], np.zeros((5,1))))\n",
        "    westernNeighbor = np.hstack((np.zeros((5,1)), data[:, :-1]))\n",
        "    northernNeighbor = np.vstack((np.zeros(5), data[:-1]))\n",
        "    southernNeighbor = np.vstack((data[1:], np.zeros(5)))\n",
        "\n",
        "    return (northernNeighbor, easternNeighbor, southernNeighbor, westernNeighbor)\n",
        "\n",
        "def divergence(xVelocity, yVelocity):\n",
        "    _,e,_,w = calculateNeighbors(xVelocity)\n",
        "    n,_,s,_ = calculateNeighbors(yVelocity)\n",
        "    return (e-w)/cellSize*2 + (n-s)/cellSize*2"
      ],
      "metadata": {
        "id": "1vshWrYO8ZP5"
      },
      "execution_count": 99,
      "outputs": []
    },
    {
      "cell_type": "code",
      "source": [
        "divergence(xWindMovement, yWindMovement)"
      ],
      "metadata": {
        "colab": {
          "base_uri": "https://localhost:8080/"
        },
        "id": "5ni160zA-HWo",
        "outputId": "0d8ca8bf-9a8d-406d-fb8b-f9296cdb337b"
      },
      "execution_count": 72,
      "outputs": [
        {
          "output_type": "execute_result",
          "data": {
            "text/plain": [
              "array([[ -2. ,  -2.5,  -3. ,  -3.5,  -7. ],\n",
              "       [ -1.5,  -4. ,  -4. ,  -4. ,  -9.5],\n",
              "       [  1. ,  -4. ,  -4. ,  -4. , -12. ],\n",
              "       [  3.5,  -4. ,  -4. ,  -4. , -14.5],\n",
              "       [ 19. ,   9.5,  10. ,  10.5,  -2. ]])"
            ]
          },
          "metadata": {},
          "execution_count": 72
        }
      ]
    },
    {
      "cell_type": "code",
      "source": [
        "prevPressure = np.full((5,5), np.inf)\n",
        "pressure = np.zeros((5, 5))\n",
        "stabalizedThresold = 0.001\n",
        "numIters = 0\n",
        "while np.abs(pressure - prevPressure).max() > stabalizedThresold:\n",
        "    summedNeighborPressure = np.add.reduce(np.array(calculateNeighbors(pressure)))\n",
        "    cellDivergence = divergence(xWindMovement, yWindMovement)\n",
        "    currentPressure = (summedNeighborPressure - cellDivergence)/4\n",
        "\n",
        "    prevPressure = pressure\n",
        "    pressure = currentPressure\n",
        "    numIters += 1\n",
        "\n",
        "print(f'After {numIters} iterations...')\n",
        "print(pressure)"
      ],
      "metadata": {
        "colab": {
          "base_uri": "https://localhost:8080/"
        },
        "id": "RqQfihDtwmEr",
        "outputId": "0e78909f-bc1c-4dbf-9a8d-69d3b7aeb04c"
      },
      "execution_count": 96,
      "outputs": [
        {
          "output_type": "stream",
          "name": "stdout",
          "text": [
            "After 49 iterations...\n",
            "[[ 2.13952055  3.87335972  5.02643813  5.54861222  5.15871245]\n",
            " [ 2.68555865  5.82881807  7.68545293  8.51063621  8.08707376]\n",
            " [ 1.27523383  5.07340947  7.37859504  8.72391447  9.18028429]\n",
            " [-1.65636051  1.8136666   4.03494793  5.82881807  7.91182126]\n",
            " [-6.21300467 -4.19482205 -2.87861233 -1.35290289  2.13952055]]\n"
          ]
        }
      ]
    },
    {
      "cell_type": "code",
      "source": [
        "n,e,s,w = calculateNeighbors(xWindMovement)\n",
        "xPredictedWind = xWindMovement * (e - w)/(2*cellSize) - yWindMovement * (n - s)/(2*cellSize)\n",
        "xDiffusion = viscosity * ((e - 2*xWindMovement + w)/(cellSize**2) + (n - 2*xWindMovement + s)/(cellSize**2))\n",
        "\n",
        "n,e,s,w = calculateNeighbors(yWindMovement)\n",
        "yPredictedWind = xWindMovement * (e - w)/(2*cellSize) - yWindMovement * (n - s)/(2*cellSize)\n",
        "yDiffusion = viscosity * ((e - 2*yWindMovement + w)/(cellSize**2) + (n - 2*yWindMovement + s)/(cellSize**2))"
      ],
      "metadata": {
        "id": "7l3s7nFEH5O3"
      },
      "execution_count": 101,
      "outputs": []
    },
    {
      "cell_type": "code",
      "source": [
        "n,e,s,w = calculateNeighbors(pressure)\n",
        "\n",
        "xPressureGradient = (e-w)/(2*cellSize)\n",
        "yPressureGradient = (n-s)/(2*cellSize)\n",
        "\n",
        "# we multiply by timestep to scale the pressure according to timestep - more timesteps passing = greater movement as a result\n",
        "# we divide by density to scale the pressure according to how difficult it is to move air. for a very dense substance, it takes greater force, greater pressure to move it compared to low density fluid which will move easily\n",
        "xWindMovement = xWindMovement - timestep/density * xPressureGradient\n",
        "yWindMovement = yWindMovement - timestep/density * yPressureGradient"
      ],
      "metadata": {
        "id": "Zi0yEEyTNeJo"
      },
      "execution_count": 106,
      "outputs": []
    }
  ]
}