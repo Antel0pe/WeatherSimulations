{
  "nbformat": 4,
  "nbformat_minor": 0,
  "metadata": {
    "colab": {
      "provenance": []
    },
    "kernelspec": {
      "name": "python3",
      "display_name": "Python 3"
    },
    "language_info": {
      "name": "python"
    }
  },
  "cells": [
    {
      "cell_type": "markdown",
      "source": [
        "we're using the navier stokes equation here however without explicitly simulating pressure. turns out simulating pressure is especially difficult due to... reasons? i think we dont have an easy equation to calculate pressure like we do for other things and it's easier to calculate what pressure should be rather than what it is which is interesting.\n",
        "\n",
        "so the general idea is using the navier stokes equation but instead of calculating pressure, solve the navier stokes equation ignoring pressure. the result of that equation tells us what our wind movement in x,y looks like. we can then use that info to solve the poisson equation. from my understanding the poisson equations finds us pressure values that would make sense in the context of weather. so for example if theres a lot of wind moving to the right it will assign the right a high pressure value and the surrounding areas lower pressure.\n",
        "\n",
        "with these \"solved for\" pressure values, we actually update the x,y wind movement with the pressure values to get a realistic? simulation of wind"
      ],
      "metadata": {
        "id": "GwJgfwbNQPDw"
      }
    },
    {
      "cell_type": "code",
      "execution_count": 9,
      "metadata": {
        "id": "ciNUZ63NvbS1"
      },
      "outputs": [],
      "source": [
        "import numpy as np\n",
        "import matplotlib.pyplot as plt"
      ]
    },
    {
      "cell_type": "code",
      "source": [
        "timestep = 0.1\n",
        "cellSize = 1\n",
        "gridLength = 32\n",
        "\n",
        "viscosity = 0.001\n",
        "density = 1.2\n",
        "pressureAlpha = 0.8"
      ],
      "metadata": {
        "id": "aWRioiwmIlS9"
      },
      "execution_count": 2,
      "outputs": []
    },
    {
      "cell_type": "code",
      "source": [
        "def resetWind():\n",
        "    # staggered grid\n",
        "    xWindMovement = np.random.uniform(-1, 1, (gridLength, gridLength+1))\n",
        "    yWindMovement = np.random.uniform(-1, 1, (gridLength+1, gridLength))\n",
        "\n",
        "    return xWindMovement, yWindMovement\n",
        "\n",
        "xWindMovement, yWindMovement = resetWind()\n",
        "\n",
        "# xWindMovement = np.arange(1, 26).reshape(5, 5)\n",
        "# yWindMovement = np.arange(1, 26).reshape(5, 5)\n",
        "\n",
        "# xWindMovement = np.random.uniform(-0.1, 0.1, (5, 5))\n",
        "# yWindMovement = np.random.uniform(-0.1, 0.1, (5, 5))\n",
        "\n",
        "# x = np.linspace(-1, 1, 5)\n",
        "# y = np.linspace(-1, 1, 5)\n",
        "# X, Y = np.meshgrid(x, y)\n",
        "\n",
        "# xWindMovement = -Y  # Creates a counterclockwise vortex\n",
        "# yWindMovement = X"
      ],
      "metadata": {
        "id": "7P7843ZgvmPh"
      },
      "execution_count": 3,
      "outputs": []
    },
    {
      "cell_type": "code",
      "source": [
        "def calculateNeighbors(data):\n",
        "    # easternNeighbor = np.hstack((data[:, 1:], np.zeros((5,1))))\n",
        "    # westernNeighbor = np.hstack((np.zeros((5,1)), data[:, :-1]))\n",
        "    # northernNeighbor = np.vstack((np.zeros(5), data[:-1]))\n",
        "    # southernNeighbor = np.vstack((data[1:], np.zeros(5)))\n",
        "\n",
        "    # easternNeighbor = np.hstack((data[:, 1:], -data[:, -1].reshape(5,1)))\n",
        "    # westernNeighbor = np.hstack((-data[:, -1].reshape(5,1), data[:, :-1]))\n",
        "    # northernNeighbor = np.vstack((-data[-1].reshape(1,5), data[:-1]))\n",
        "    # southernNeighbor = np.vstack((data[1:], -data[1].reshape(1,5)))\n",
        "\n",
        "    # wrap around\n",
        "    easternNeighbor = np.hstack((data[:, 1:], data[:, :1]))\n",
        "    westernNeighbor = np.hstack((data[:, -1:], data[:, :-1]))\n",
        "    northernNeighbor = np.vstack((data[-1:], data[:-1]))\n",
        "    southernNeighbor = np.vstack((data[1:], data[:1]))\n",
        "\n",
        "    # use boundary velocities\n",
        "    # easternNeighbor = np.hstack((data[:, 1:], data[:, -1].reshape(-1,1)))\n",
        "    # westernNeighbor = np.hstack((data[:, 0].reshape(-1,1), data[:, :-1]))\n",
        "    # northernNeighbor = np.vstack((data[0].reshape(1,-1), data[:-1]))\n",
        "    # southernNeighbor = np.vstack((data[1:], data[-1].reshape(1,-1)))\n",
        "\n",
        "    return (northernNeighbor, easternNeighbor, southernNeighbor, westernNeighbor)\n",
        "\n",
        "def divergence(xVelocity, yVelocity):\n",
        "    n,e,s,w = calculateVelocityNeighbor(xVelocity, yVelocity)\n",
        "    return (e-w)/(cellSize*2)+ (n-s)/(cellSize*2)\n",
        "\n",
        "def calculateVelocityNeighbor(xWind, yWind):\n",
        "    north = np.diff(yWind, axis=0)\n",
        "    east = np.diff(xWind, axis=1)\n",
        "    south = -north\n",
        "    west = -east\n",
        "    return north, east, south, west\n",
        "\n",
        "def fixVelocityShapeForOtherVelocity(wind, forVelocityStr):\n",
        "    if forVelocityStr == 'x':\n",
        "        prependedWind = np.hstack((wind[:, -1].reshape(-1, 1), wind))\n",
        "        return np.diff(prependedWind, axis=0)\n",
        "    else:\n",
        "        prependedWind = np.vstack((wind[-1], wind))\n",
        "        return np.diff(prependedWind, axis=1)\n",
        "\n",
        "def averageWindAtCellCenter(xWind, yWind):\n",
        "    n, e, _, _ = calculateVelocityNeighbor(xWind, yWind)\n",
        "    return e/2, n/2"
      ],
      "metadata": {
        "id": "1vshWrYO8ZP5"
      },
      "execution_count": 60,
      "outputs": []
    },
    {
      "cell_type": "code",
      "source": [
        "print(xWindMovement)"
      ],
      "metadata": {
        "colab": {
          "base_uri": "https://localhost:8080/"
        },
        "id": "FGk7890gbzPF",
        "outputId": "00842887-aecf-466b-db62-df1e60cea077"
      },
      "execution_count": 36,
      "outputs": [
        {
          "output_type": "stream",
          "name": "stdout",
          "text": [
            "[[-0.67975772  0.6045068  -0.43425199 ... -0.65212739 -0.56267904\n",
            "   0.39642312]\n",
            " [-0.40330893 -0.07958268 -0.87162528 ... -0.78308373  0.32380171\n",
            "  -0.32208195]\n",
            " [-0.36523779 -0.65172061 -0.0791363  ... -0.81431042  0.34585534\n",
            "   0.9647486 ]\n",
            " ...\n",
            " [-0.14846383  0.37748732  0.11906283 ... -0.98079766  0.38294354\n",
            "   0.62003457]\n",
            " [ 0.67732468 -0.80522109 -0.0622079  ...  0.66772967  0.11655621\n",
            "  -0.20591081]\n",
            " [ 0.87747898 -0.96875792 -0.14776538 ...  0.74851385  0.88898634\n",
            "   0.44947535]]\n"
          ]
        }
      ]
    },
    {
      "cell_type": "code",
      "source": [
        "np.vstack((xWindMovement[-1], xWindMovement))"
      ],
      "metadata": {
        "colab": {
          "base_uri": "https://localhost:8080/"
        },
        "id": "-F-6ZA9Hcza7",
        "outputId": "9617e1af-e5f1-4325-9fa2-38f129289cc0"
      },
      "execution_count": 59,
      "outputs": [
        {
          "output_type": "execute_result",
          "data": {
            "text/plain": [
              "array([[ 0.87747898,  0.87747898, -0.96875792, ...,  0.74851385,\n",
              "         0.88898634,  0.44947535],\n",
              "       [-0.67975772, -0.67975772,  0.6045068 , ..., -0.65212739,\n",
              "        -0.56267904,  0.39642312],\n",
              "       [-0.40330893, -0.40330893, -0.07958268, ..., -0.78308373,\n",
              "         0.32380171, -0.32208195],\n",
              "       ...,\n",
              "       [-0.14846383, -0.14846383,  0.37748732, ..., -0.98079766,\n",
              "         0.38294354,  0.62003457],\n",
              "       [ 0.67732468,  0.67732468, -0.80522109, ...,  0.66772967,\n",
              "         0.11655621, -0.20591081],\n",
              "       [ 0.87747898,  0.87747898, -0.96875792, ...,  0.74851385,\n",
              "         0.88898634,  0.44947535]])"
            ]
          },
          "metadata": {},
          "execution_count": 59
        }
      ]
    },
    {
      "cell_type": "code",
      "source": [
        "xWindMovement[:, 0].reshape(-1, 1)"
      ],
      "metadata": {
        "colab": {
          "base_uri": "https://localhost:8080/"
        },
        "id": "Uy7pZbrcceIo",
        "outputId": "2d2678bc-4eb8-46c3-88fd-3e727a6a0e6d"
      },
      "execution_count": 52,
      "outputs": [
        {
          "output_type": "execute_result",
          "data": {
            "text/plain": [
              "array([[-0.67975772],\n",
              "       [-0.40330893],\n",
              "       [-0.36523779],\n",
              "       [-0.12646174],\n",
              "       [-0.93607035],\n",
              "       [-0.76129427],\n",
              "       [ 0.45813581],\n",
              "       [ 0.95675448],\n",
              "       [ 0.23746025],\n",
              "       [ 0.6387387 ],\n",
              "       [ 0.64350554],\n",
              "       [-0.30196057],\n",
              "       [ 0.27314054],\n",
              "       [ 0.25802646],\n",
              "       [ 0.39765687],\n",
              "       [-0.06231303],\n",
              "       [ 0.5605871 ],\n",
              "       [-0.07516681],\n",
              "       [-0.71431486],\n",
              "       [-0.27658492],\n",
              "       [-0.66319327],\n",
              "       [ 0.71703873],\n",
              "       [-0.88606202],\n",
              "       [ 0.24523439],\n",
              "       [-0.95863464],\n",
              "       [ 0.09954928],\n",
              "       [ 0.09575364],\n",
              "       [-0.2138557 ],\n",
              "       [ 0.33425353],\n",
              "       [-0.14846383],\n",
              "       [ 0.67732468],\n",
              "       [ 0.87747898]])"
            ]
          },
          "metadata": {},
          "execution_count": 52
        }
      ]
    },
    {
      "cell_type": "code",
      "source": [
        "fixVelocityShapeForOtherVelocity(yWindMovement, 'x').shape"
      ],
      "metadata": {
        "colab": {
          "base_uri": "https://localhost:8080/"
        },
        "id": "J8ROs8V5bsQY",
        "outputId": "d427d499-e338-4f37-fc10-8b19c792b2bb"
      },
      "execution_count": 61,
      "outputs": [
        {
          "output_type": "execute_result",
          "data": {
            "text/plain": [
              "(32, 33)"
            ]
          },
          "metadata": {},
          "execution_count": 61
        }
      ]
    },
    {
      "cell_type": "code",
      "source": [
        "print(xWindMovement.shape)\n",
        "print(calculateNeighbors(yWindMovement)[1].shape)"
      ],
      "metadata": {
        "colab": {
          "base_uri": "https://localhost:8080/"
        },
        "id": "_mMqmTlLaqy9",
        "outputId": "c85a4969-f291-499b-8b8a-1c03a96582c6"
      },
      "execution_count": 10,
      "outputs": [
        {
          "output_type": "stream",
          "name": "stdout",
          "text": [
            "(32, 33)\n",
            "(33, 32)\n"
          ]
        }
      ]
    },
    {
      "cell_type": "code",
      "source": [
        "np.add(np.array([[1, 2], [3, 4]]), 0)"
      ],
      "metadata": {
        "colab": {
          "base_uri": "https://localhost:8080/"
        },
        "id": "To_7q6DNbDKI",
        "outputId": "20f9e9c8-9101-40f0-fe21-f365a8dbe54d"
      },
      "execution_count": null,
      "outputs": [
        {
          "output_type": "execute_result",
          "data": {
            "text/plain": [
              "array([[1, 2],\n",
              "       [3, 4]])"
            ]
          },
          "metadata": {},
          "execution_count": 85
        }
      ]
    },
    {
      "cell_type": "code",
      "source": [
        "xWind = np.zeros((32, 32))\n",
        "yWind = np.zeros((32, 32))\n",
        "\n",
        "# Inject static divergence blob\n",
        "xWind[16, 17] += 0.5\n",
        "xWind[16, 15] -= 0.5\n",
        "yWind[17, 16] -= 0.5\n",
        "yWind[15, 16] += 0.5\n",
        "\n",
        "# Plot initial divergence map\n",
        "div = divergence(xWind, yWind)\n",
        "div[16, 14:19]"
      ],
      "metadata": {
        "colab": {
          "base_uri": "https://localhost:8080/",
          "height": 315
        },
        "id": "m-Mlkli2cQ_7",
        "outputId": "6ee11201-2679-4cfa-b038-8674ee6e6fa0"
      },
      "execution_count": 5,
      "outputs": [
        {
          "output_type": "error",
          "ename": "ValueError",
          "evalue": "operands could not be broadcast together with shapes (32,31) (31,32) ",
          "traceback": [
            "\u001b[0;31m---------------------------------------------------------------------------\u001b[0m",
            "\u001b[0;31mValueError\u001b[0m                                Traceback (most recent call last)",
            "\u001b[0;32m<ipython-input-5-faf2c9ea16ef>\u001b[0m in \u001b[0;36m<cell line: 0>\u001b[0;34m()\u001b[0m\n\u001b[1;32m      9\u001b[0m \u001b[0;34m\u001b[0m\u001b[0m\n\u001b[1;32m     10\u001b[0m \u001b[0;31m# Plot initial divergence map\u001b[0m\u001b[0;34m\u001b[0m\u001b[0;34m\u001b[0m\u001b[0m\n\u001b[0;32m---> 11\u001b[0;31m \u001b[0mdiv\u001b[0m \u001b[0;34m=\u001b[0m \u001b[0mdivergence\u001b[0m\u001b[0;34m(\u001b[0m\u001b[0mxWind\u001b[0m\u001b[0;34m,\u001b[0m \u001b[0myWind\u001b[0m\u001b[0;34m)\u001b[0m\u001b[0;34m\u001b[0m\u001b[0;34m\u001b[0m\u001b[0m\n\u001b[0m\u001b[1;32m     12\u001b[0m \u001b[0mdiv\u001b[0m\u001b[0;34m[\u001b[0m\u001b[0;36m16\u001b[0m\u001b[0;34m,\u001b[0m \u001b[0;36m14\u001b[0m\u001b[0;34m:\u001b[0m\u001b[0;36m19\u001b[0m\u001b[0;34m]\u001b[0m\u001b[0;34m\u001b[0m\u001b[0;34m\u001b[0m\u001b[0m\n",
            "\u001b[0;32m<ipython-input-4-8b0b14c831c3>\u001b[0m in \u001b[0;36mdivergence\u001b[0;34m(xVelocity, yVelocity)\u001b[0m\n\u001b[1;32m     26\u001b[0m \u001b[0;32mdef\u001b[0m \u001b[0mdivergence\u001b[0m\u001b[0;34m(\u001b[0m\u001b[0mxVelocity\u001b[0m\u001b[0;34m,\u001b[0m \u001b[0myVelocity\u001b[0m\u001b[0;34m)\u001b[0m\u001b[0;34m:\u001b[0m\u001b[0;34m\u001b[0m\u001b[0;34m\u001b[0m\u001b[0m\n\u001b[1;32m     27\u001b[0m     \u001b[0mn\u001b[0m\u001b[0;34m,\u001b[0m\u001b[0me\u001b[0m\u001b[0;34m,\u001b[0m\u001b[0ms\u001b[0m\u001b[0;34m,\u001b[0m\u001b[0mw\u001b[0m \u001b[0;34m=\u001b[0m \u001b[0mcalculateVelocityNeighbor\u001b[0m\u001b[0;34m(\u001b[0m\u001b[0mxVelocity\u001b[0m\u001b[0;34m,\u001b[0m \u001b[0myVelocity\u001b[0m\u001b[0;34m)\u001b[0m\u001b[0;34m\u001b[0m\u001b[0;34m\u001b[0m\u001b[0m\n\u001b[0;32m---> 28\u001b[0;31m     \u001b[0;32mreturn\u001b[0m \u001b[0;34m(\u001b[0m\u001b[0me\u001b[0m\u001b[0;34m-\u001b[0m\u001b[0mw\u001b[0m\u001b[0;34m)\u001b[0m\u001b[0;34m/\u001b[0m\u001b[0;34m(\u001b[0m\u001b[0mcellSize\u001b[0m\u001b[0;34m*\u001b[0m\u001b[0;36m2\u001b[0m\u001b[0;34m)\u001b[0m\u001b[0;34m+\u001b[0m \u001b[0;34m(\u001b[0m\u001b[0mn\u001b[0m\u001b[0;34m-\u001b[0m\u001b[0ms\u001b[0m\u001b[0;34m)\u001b[0m\u001b[0;34m/\u001b[0m\u001b[0;34m(\u001b[0m\u001b[0mcellSize\u001b[0m\u001b[0;34m*\u001b[0m\u001b[0;36m2\u001b[0m\u001b[0;34m)\u001b[0m\u001b[0;34m\u001b[0m\u001b[0;34m\u001b[0m\u001b[0m\n\u001b[0m\u001b[1;32m     29\u001b[0m \u001b[0;34m\u001b[0m\u001b[0m\n\u001b[1;32m     30\u001b[0m \u001b[0;32mdef\u001b[0m \u001b[0mcalculateVelocityNeighbor\u001b[0m\u001b[0;34m(\u001b[0m\u001b[0mxWind\u001b[0m\u001b[0;34m,\u001b[0m \u001b[0myWind\u001b[0m\u001b[0;34m)\u001b[0m\u001b[0;34m:\u001b[0m\u001b[0;34m\u001b[0m\u001b[0;34m\u001b[0m\u001b[0m\n",
            "\u001b[0;31mValueError\u001b[0m: operands could not be broadcast together with shapes (32,31) (31,32) "
          ]
        }
      ]
    },
    {
      "cell_type": "code",
      "source": [
        "# n,e,s,w = calculateNeighbors(xWindMovement)\n",
        "# xAdvection = -1 * xWindMovement * (e - w)/(2*cellSize) - yWindMovement * (n - s)/(2*cellSize)\n",
        "# xDiffusion = viscosity * ((e - 2*xWindMovement + w)/(cellSize**2) + (n - 2*xWindMovement + s)/(cellSize**2))\n",
        "# xPredictedWind = xWindMovement + timestep * (xAdvection + xDiffusion)\n",
        "\n",
        "# n,e,s,w = calculateNeighbors(yWindMovement)\n",
        "# yAdvection = -1 * xWindMovement * (e - w)/(2*cellSize) - yWindMovement * (n - s)/(2*cellSize)\n",
        "# yDiffusion = viscosity * ((e - 2*yWindMovement + w)/(cellSize**2) + (n - 2*yWindMovement + s)/(cellSize**2))\n",
        "# yPredictedWind = yWindMovement + timestep * (yAdvection + yDiffusion)"
      ],
      "metadata": {
        "id": "7l3s7nFEH5O3"
      },
      "execution_count": null,
      "outputs": []
    },
    {
      "cell_type": "code",
      "source": [
        "# prevPressure = np.full((5,5), np.inf)\n",
        "# pressure = np.zeros((5, 5))\n",
        "# stabalizedThresold = 0.001\n",
        "# numIters = 0\n",
        "# while np.abs(pressure - prevPressure).max() > stabalizedThresold:\n",
        "#     summedNeighborPressure = np.add.reduce(np.array(calculateNeighbors(pressure)))\n",
        "#     cellDivergence = divergence(xPredictedWind, yPredictedWind)\n",
        "#     currentPressure = (summedNeighborPressure - cellDivergence)/4\n",
        "\n",
        "#     prevPressure = pressure\n",
        "#     pressure = currentPressure\n",
        "#     numIters += 1\n",
        "\n",
        "# print(f'After {numIters} iterations...')\n",
        "# print(pressure)"
      ],
      "metadata": {
        "colab": {
          "base_uri": "https://localhost:8080/"
        },
        "id": "RqQfihDtwmEr",
        "outputId": "fe937c92-95af-4cb3-9c1e-ba139d3e621e"
      },
      "execution_count": null,
      "outputs": [
        {
          "output_type": "stream",
          "name": "stdout",
          "text": [
            "After 79 iterations...\n",
            "[[ -51.81513362  -59.30903544  -46.88127949  -15.02611314   78.51319075]\n",
            " [-163.952224   -190.54109838 -171.19177932 -125.73785353   83.07819115]\n",
            " [-337.45371372 -423.7138497  -407.60950528 -373.81456776  -20.46370233]\n",
            " [-532.15035116 -729.2535408  -741.72136429 -781.45018929 -341.12000267]\n",
            " [-135.8947598  -465.43041302 -484.57432118 -633.14731738 -512.56664877]]\n"
          ]
        }
      ]
    },
    {
      "cell_type": "code",
      "source": [
        "# n,e,s,w = calculateNeighbors(pressure)\n",
        "\n",
        "# xPressureGradient = (e-w)/(2*cellSize)\n",
        "# yPressureGradient = (n-s)/(2*cellSize)\n",
        "\n",
        "# # we multiply by timestep to scale the pressure according to timestep - more timesteps passing = greater movement as a result\n",
        "# # we divide by density to scale the pressure according to how difficult it is to move air. for a very dense substance, it takes greater force, greater pressure to move it compared to low density fluid which will move easily\n",
        "# xWindMovement = xPredictedWind - timestep/density * xPressureGradient\n",
        "# yWindMovement = yPredictedWind - timestep/density * yPressureGradient"
      ],
      "metadata": {
        "id": "Zi0yEEyTNeJo"
      },
      "execution_count": null,
      "outputs": []
    },
    {
      "cell_type": "code",
      "source": [
        "# def plotData(data1, data2, title1, title2, vmin=None, vmax=None):\n",
        "#     fig, axes = plt.subplots(1, 2, figsize=(10, 5))  # Create 1 row, 2 columns\n",
        "\n",
        "#     # Determine color scale limits if not provided\n",
        "#     if vmin is None or vmax is None:\n",
        "#         vmin = min(np.min(data1), np.min(data2))\n",
        "#         vmax = max(np.max(data1), np.max(data2))\n",
        "\n",
        "#     # Plot with consistent color scale\n",
        "#     im1 = axes[0].imshow(data1, cmap='viridis', vmin=vmin, vmax=vmax)\n",
        "#     axes[0].set_title(title1)\n",
        "#     fig.colorbar(im1, ax=axes[0])\n",
        "\n",
        "#     im2 = axes[1].imshow(data2, cmap='viridis', vmin=vmin, vmax=vmax)\n",
        "#     axes[1].set_title(title2)\n",
        "#     fig.colorbar(im2, ax=axes[1])\n",
        "\n",
        "#     plt.show()\n",
        "\n",
        "def plotData(xWind, yWind, pressure, title='title', vmin=-1, vmax=1):\n",
        "    # fig, axes = plt.subplots(1, 1, figsize=(10, 10))\n",
        "    fig, axes = plt.subplots(1, 4, figsize=(15, 5))\n",
        "\n",
        "    # X-component heatmap\n",
        "    im1 = axes[0].imshow(xWind, cmap='RdBu', vmin=vmin, vmax=vmax, origin='upper')\n",
        "    axes[0].set_title('X Wind')\n",
        "    fig.colorbar(im1, ax=axes[0])\n",
        "\n",
        "    # Y-component heatmap\n",
        "    im2 = axes[1].imshow(yWind, cmap='RdBu', vmin=vmin, vmax=vmax, origin='upper')\n",
        "    axes[1].set_title('Y Wind')\n",
        "    fig.colorbar(im2, ax=axes[1])\n",
        "\n",
        "    # Pressure heatmap\n",
        "    im3 = axes[2].imshow(pressure, cmap='RdBu', vmin=vmin, vmax=vmax, origin='upper')\n",
        "    axes[2].set_title('Pressure')\n",
        "    fig.colorbar(im3, ax=axes[2])\n",
        "\n",
        "    # Combined quiver plot\n",
        "    avgX, avgY = averageWindAtCellCenter(xWind, yWind)\n",
        "    ny, nx = avgX.shape\n",
        "    X, Y = np.meshgrid(np.arange(nx), np.arange(ny))\n",
        "\n",
        "    # axes[2].quiver(X, Y, xWind, yWind, angles='xy', scale_units='xy', scale=1, color='black')\n",
        "    axes[3].streamplot(X, Y, avgX, -avgY, color='black')\n",
        "    axes[3].invert_yaxis() # invert y axis since streamplot assumes last row is y=0\n",
        "    axes[3].set_title(f'{title}\\nWind Direction')\n",
        "    # axes.streamplot(X, Y, xWind, yWind, color='black')\n",
        "    # axes.set_title(f'{title}\\nWind Direction')\n",
        "\n",
        "    plt.tight_layout()\n",
        "    plt.show()"
      ],
      "metadata": {
        "id": "83KrHYZbNudg"
      },
      "execution_count": 6,
      "outputs": []
    },
    {
      "cell_type": "code",
      "source": [
        "def predictWind(xWind, yWind, calculateStr):\n",
        "    if calculateStr == 'x':\n",
        "        mainWind = xWind\n",
        "        yWind = fixVelocityShapeForOtherVelocity(yWind, 'x')\n",
        "    else:\n",
        "        mainWind = yWind\n",
        "        xWind = fixVelocityShapeForOtherVelocity(xWind, 'y')\n",
        "\n",
        "    n, e, s, w = calculateNeighbors(mainWind)\n",
        "\n",
        "    # Upwind Differencing (prevents unrealistic reversals)\n",
        "    advection_x = np.where(xWind > 0,\n",
        "                           -xWind * (mainWind - w) / cellSize, # wind coming from left\n",
        "                           -xWind * (e - mainWind) / cellSize) # wind coming from right\n",
        "    advection_y = np.where(yWind > 0,\n",
        "                           -yWind * (mainWind - s) / cellSize,\n",
        "                           -yWind * (n - mainWind) / cellSize)\n",
        "\n",
        "    diffusion = viscosity * ((e - 2*mainWind + w)/(cellSize**2) + (n - 2*mainWind + s)/(cellSize**2))\n",
        "\n",
        "    return mainWind + timestep * (advection_x + advection_y + diffusion)\n",
        "\n",
        "'''\n",
        "divergence of grid cell tells us how much air is moving IN to the cell vs OUT. for our sim, we want divergence to be 0 meaning that roughly equal amounts of air move in and out. this allows us to say density is the same everywhere\n",
        "since no cell can have great divergence without high density in that cell\n",
        "\n",
        "we want to find pressure values such that cells with higher divergence have higher pressure and cells with low divergence has low pressure. this means that cells with high divergence will have high pressure zones\n",
        "that move to low pressure zones which are low divergence cells. it's a little bit more precise than that since the solve has to exactly find values such that all cells have divergence 0.\n",
        "'''\n",
        "# def solvePressure(xWind, yWind):\n",
        "#     pressure = np.zeros((gridLength, gridLength))\n",
        "#     max_iters = 500  # Increase iteration count\n",
        "#     tolerance = 1e-8  # Stricter stopping condition\n",
        "\n",
        "#     for i in range(max_iters):\n",
        "#         prevPressure = pressure.copy()\n",
        "#         cellDivergence = divergence(xWind, yWind)\n",
        "\n",
        "#         # Gauss-Seidel Iteration (directly modifies pressure)\n",
        "#         n, e, s, w = calculateNeighbors(pressure)\n",
        "#         # pressure = 0.25 * (e + w + n + s - cellDivergence)\n",
        "#         pressure = (1 - pressureAlpha) * pressure + pressureAlpha * (0.25 * (e + w + n + s - cellDivergence))\n",
        "\n",
        "#         if np.linalg.norm(pressure - prevPressure) < tolerance:\n",
        "#             break\n",
        "\n",
        "#         if i % 10 == 0:\n",
        "#             print(f\"Iteration {i}: Max divergence = {np.max(np.abs(cellDivergence))}\")\n",
        "\n",
        "\n",
        "#     return pressure\n",
        "def solvePressure(cellDivergence):\n",
        "    pressure = np.zeros((gridLength, gridLength))\n",
        "    max_iters = 500  # Increase iteration count\n",
        "    tolerance = 1e-8  # Stricter stopping condition\n",
        "\n",
        "    for i in range(max_iters):\n",
        "        prevPressure = pressure.copy()\n",
        "\n",
        "        # Gauss-Seidel Iteration (directly modifies pressure)\n",
        "        n, e, s, w = calculateNeighbors(pressure)\n",
        "        # pressure = 0.25 * (e + w + n + s - cellDivergence)\n",
        "        pressure = (1 - pressureAlpha) * pressure + pressureAlpha * (0.25 * (e + w + n + s - cellDivergence))\n",
        "\n",
        "        if np.linalg.norm(pressure - prevPressure) < tolerance:\n",
        "            break\n",
        "\n",
        "        # if i % 10 == 0:\n",
        "        #     print(f\"Iteration {i}: Max divergence = {np.max(np.abs(cellDivergence))}\")\n",
        "            # print(f\"Iteration {i}: Max Pressure difference = {np.max(np.abs(pressure - prevPressure))}\")\n",
        "\n",
        "    return pressure\n",
        "\n",
        "\n",
        "def updateWind(wind, pressure, windStr):\n",
        "    if windStr == 'x':\n",
        "        wrapAroundPressure = np.hstack((pressure[:, -1].reshape(-1, 1), pressure, pressure[:, 0].reshape(-1, 1)))\n",
        "        pressureGradient = np.diff(wrapAroundPressure, axis=1)/cellSize\n",
        "    else:\n",
        "        wrapAroundPressure = np.vstack((pressure[-1], pressure, pressure[0]))\n",
        "        pressureGradient = np.diff(wrapAroundPressure, axis=0)/cellSize\n",
        "\n",
        "    return wind - (timestep/density) * pressureGradient\n",
        "\n",
        "def getCFLTimestep(xWind, yWind):\n",
        "    return cellSize / max(np.max(np.abs(xWind)), np.max(np.abs(yWind)))"
      ],
      "metadata": {
        "id": "9_USJ-tMbu4D"
      },
      "execution_count": 77,
      "outputs": []
    },
    {
      "cell_type": "code",
      "source": [
        "xWindMovement, yWindMovement = resetWind()\n",
        "plotData(xWindMovement, yWindMovement, np.zeros((gridLength, gridLength)))\n",
        "\n",
        "for i in range(100):\n",
        "    timestep = getCFLTimestep(xWindMovement, yWindMovement)\n",
        "    # print(f\"Timestep: {timestep}\")\n",
        "\n",
        "    xPredictedWind = predictWind(xWindMovement, yWindMovement, 'x')\n",
        "    yPredictedWind = predictWind(xWindMovement, yWindMovement, 'y')\n",
        "\n",
        "    # print(f\"After advection max u = {np.max(xPredictedWind)}, min u = {np.min(xPredictedWind)}\")\n",
        "\n",
        "\n",
        "    div = divergence(xPredictedWind, yPredictedWind)\n",
        "    print(f\"After advection: max divergence = {np.max(np.abs(div))}\")\n",
        "\n",
        "    pressure = solvePressure(divergence(xPredictedWind, yPredictedWind))\n",
        "\n",
        "    # print(f\"Max pressure: {np.max(pressure)}, Min pressure: {np.min(pressure)}\")\n",
        "\n",
        "    xWindMovement = updateWind(xPredictedWind, pressure, 'x')\n",
        "    yWindMovement = updateWind(yPredictedWind, pressure, 'y')\n",
        "\n",
        "    div = divergence(xWindMovement, yWindMovement)\n",
        "    print(f\"After projection: max divergence = {np.max(np.abs(div))}\")\n",
        "\n",
        "\n",
        "    # print(f\"Max divergence: {np.max(np.abs(divergence(xWindMovement, yWindMovement)))}\")\n",
        "    # print(f\"Max pressure: {np.max(pressure)}, Min pressure: {np.min(pressure)}\")\n",
        "\n",
        "    plotData(xWindMovement, yWindMovement, pressure)"
      ],
      "metadata": {
        "id": "7C6DZLJ8N9cZ"
      },
      "execution_count": null,
      "outputs": []
    },
    {
      "cell_type": "code",
      "source": [
        "t = calculateVelocityNeighbor(xWindMovement, yWindMovement)\n",
        "print(t[0].shape)\n",
        "print(t[1].shape)"
      ],
      "metadata": {
        "colab": {
          "base_uri": "https://localhost:8080/"
        },
        "id": "M0yvOE33a3Kz",
        "outputId": "0722c262-ccc0-4452-8d93-20b0f9d2757c"
      },
      "execution_count": 17,
      "outputs": [
        {
          "output_type": "stream",
          "name": "stdout",
          "text": [
            "(32, 32)\n",
            "(32, 32)\n"
          ]
        }
      ]
    },
    {
      "cell_type": "code",
      "source": [
        "# Setup grid\n",
        "xWind = np.zeros((32, 32+1))\n",
        "yWind = np.zeros((32+1, 32))"
      ],
      "metadata": {
        "id": "P6cH01RGaj4q"
      },
      "execution_count": null,
      "outputs": []
    },
    {
      "cell_type": "code",
      "source": [
        "n,e,_,_ = calculateVelocityNeighbor(xWind, yWind)\n",
        "ny, nx = n.shape\n",
        "X, Y = np.meshgrid(np.arange(ny), np.arange(nx))\n",
        "print(X.shape)\n",
        "print(Y.shape)\n",
        "print(n.shape)\n",
        "print(e.shape)"
      ],
      "metadata": {
        "colab": {
          "base_uri": "https://localhost:8080/"
        },
        "id": "LFIUQPHpPZvy",
        "outputId": "e4c9e665-240b-4cea-f97f-f07ddc06956c"
      },
      "execution_count": null,
      "outputs": [
        {
          "output_type": "stream",
          "name": "stdout",
          "text": [
            "(32, 32)\n",
            "(32, 32)\n",
            "(32, 32)\n",
            "(32, 32)\n"
          ]
        }
      ]
    },
    {
      "cell_type": "code",
      "source": [
        "pressure = [    1,   2,   3,   4 ]\n",
        "velocity = np.array([[0.5, 1.5, 2.5, 3.5, 4.5],\n",
        "                     [10, 12, 15, 20, 27]])\n",
        "\n",
        "print(np.diff(velocity, axis=1))\n",
        "print(np.diff(velocity)*-1)"
      ],
      "metadata": {
        "colab": {
          "base_uri": "https://localhost:8080/"
        },
        "id": "u5sqdCyTP2C8",
        "outputId": "9db6a413-cb1b-472b-cc96-ac17b4779516"
      },
      "execution_count": 55,
      "outputs": [
        {
          "output_type": "stream",
          "name": "stdout",
          "text": [
            "[[1. 1. 1. 1.]\n",
            " [2. 3. 5. 7.]]\n",
            "[[-1. -1. -1. -1.]\n",
            " [-2. -3. -5. -7.]]\n"
          ]
        }
      ]
    },
    {
      "cell_type": "code",
      "source": [
        "calculateVelocityNeighbor(velocity, velocity)"
      ],
      "metadata": {
        "colab": {
          "base_uri": "https://localhost:8080/"
        },
        "id": "qkKxf25XSUKa",
        "outputId": "673ba9c1-8cae-4634-cf9f-940398ced1ff"
      },
      "execution_count": null,
      "outputs": [
        {
          "output_type": "execute_result",
          "data": {
            "text/plain": [
              "(array([[ 9.5, 10.5, 12.5, 16.5, 22.5]]),\n",
              " array([[1., 1., 1., 1.],\n",
              "        [2., 3., 5., 7.]]),\n",
              " array([[ -9.5, -10.5, -12.5, -16.5, -22.5]]),\n",
              " array([[-1., -1., -1., -1.],\n",
              "        [-2., -3., -5., -7.]]))"
            ]
          },
          "metadata": {},
          "execution_count": 39
        }
      ]
    }
  ]
}